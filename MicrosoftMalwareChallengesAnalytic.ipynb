{
 "cells": [
  {
   "cell_type": "code",
   "execution_count": null,
   "metadata": {
    "collapsed": true
   },
   "outputs": [],
   "source": [
    "import numpy as np\n",
    "import matplotlib.pyplot as plt\n",
    "from sklearn.ensemble import ExtraTreesClassifier\n",
    "import pandas as pd\n",
    "\n",
    "data = pd.read_csv('C:/Users/Brian/Anaconda2/LargeTrain.csv')\n",
    "\n",
    "X = data.drop(['Class'],1)\n",
    "y = data['Class']\n",
    "forest = ExtraTreesClassifier(n_estimators=500,criterion='entropy')\n",
    "\n",
    "#X : array-like or sparse matrix of shape = [n_samples, n_features] ,The training input samples.\n",
    "#y : array-like, shape = [n_samples] or [n_samples, n_outputs] , The target values .\n",
    "forest.fit(X, y)\n",
    "importances = forest.feature_importances_ #Return the feature importances (the higher, the more important the feature).\n",
    "std = np.std([tree.feature_importances_ for tree in forest.estimators_],\n",
    "             axis=0)\n",
    "indices = np.argsort(importances)[::-1]\n",
    "\n",
    "print(\"Feature ranking:\")\n",
    "\n",
    "for f in range(X.shape[1]):\n",
    "    print(\"%d. feature %d (%f)\" % (f + 1, indices[f], importances[indices[f]]))\n",
    "\n",
    "\n",
    "plt.figure()\n",
    "plt.title(\"Feature importances\")\n",
    "plt.bar(range(X.shape[1]), importances[indices],\n",
    "       color=\"r\", yerr=std[indices], align=\"center\")\n",
    "plt.xticks(range(X.shape[1]), indices)\n",
    "plt.xlim([-1, X.shape[1]])\n",
    "plt.show()\n",
    "\n",
    "print '前九個較有效屬性:'\n",
    "for i in range(9):\n",
    "    print data.columns[indices[i]]\n",
    "    \n",
    "print '較無效屬性(entropy等於0):'\n",
    "for i in range(X.shape[1]):\n",
    "    if importances[indices[i]] == 0.0:\n",
    "        print data.columns[indices[i]]"
   ]
  }
 ],
 "metadata": {
  "anaconda-cloud": {},
  "kernelspec": {
   "display_name": "Python [default]",
   "language": "python",
   "name": "python2"
  },
  "language_info": {
   "codemirror_mode": {
    "name": "ipython",
    "version": 2
   },
   "file_extension": ".py",
   "mimetype": "text/x-python",
   "name": "python",
   "nbconvert_exporter": "python",
   "pygments_lexer": "ipython2",
   "version": "2.7.12"
  }
 },
 "nbformat": 4,
 "nbformat_minor": 1
}
